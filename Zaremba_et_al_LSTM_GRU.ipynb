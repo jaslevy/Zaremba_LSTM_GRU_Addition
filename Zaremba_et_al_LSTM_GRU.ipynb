{
  "nbformat": 4,
  "nbformat_minor": 0,
  "metadata": {
    "colab": {
      "provenance": [],
      "gpuType": "T4"
    },
    "kernelspec": {
      "name": "python3",
      "display_name": "Python 3"
    },
    "language_info": {
      "name": "python"
    },
    "accelerator": "GPU"
  },
  "cells": [
    {
      "cell_type": "markdown",
      "source": [
        "# LSTM and GRU RNNs on the Penn Tree Bank Dataset"
      ],
      "metadata": {
        "id": "r5KvICqqosHj"
      }
    },
    {
      "cell_type": "markdown",
      "source": [
        "### This Notebook includes a reimplementation of the \"small\" **LSTM** model as described in \"Recurrent Neural Network Regularization\", by Zaremba et al. (https://arxiv.org/abs/1409.2329). The notebook goes further than the paper by applying the **GRU (Gated Recurrent Units)** model to the same data.\n"
      ],
      "metadata": {
        "id": "n2U-MizWooqr"
      }
    },
    {
      "cell_type": "markdown",
      "source": [
        "###Loading the data"
      ],
      "metadata": {
        "id": "E3tljcahp8WQ"
      }
    },
    {
      "cell_type": "code",
      "source": [
        "!wget http://www.fit.vutbr.cz/~imikolov/rnnlm/simple-examples.tgz\n",
        "\n",
        "!tar -xvzf simple-examples.tgz"
      ],
      "metadata": {
        "colab": {
          "base_uri": "https://localhost:8080/"
        },
        "id": "52xxRTUDp8BN",
        "outputId": "8ecd1dca-3141-45e8-fee8-710deba54a10"
      },
      "execution_count": 1,
      "outputs": [
        {
          "output_type": "stream",
          "name": "stdout",
          "text": [
            "--2024-09-25 19:30:41--  http://www.fit.vutbr.cz/~imikolov/rnnlm/simple-examples.tgz\n",
            "Resolving www.fit.vutbr.cz (www.fit.vutbr.cz)... 147.229.9.23, 2001:67c:1220:809::93e5:917\n",
            "Connecting to www.fit.vutbr.cz (www.fit.vutbr.cz)|147.229.9.23|:80... connected.\n",
            "HTTP request sent, awaiting response... 301 Moved Permanently\n",
            "Location: https://www.fit.vut.cz/~imikolov/rnnlm/simple-examples.tgz [following]\n",
            "--2024-09-25 19:30:42--  https://www.fit.vut.cz/~imikolov/rnnlm/simple-examples.tgz\n",
            "Resolving www.fit.vut.cz (www.fit.vut.cz)... 147.229.9.65, 2001:67c:1220:809::93e5:941\n",
            "Connecting to www.fit.vut.cz (www.fit.vut.cz)|147.229.9.65|:443... connected.\n",
            "HTTP request sent, awaiting response... 301 Moved Permanently\n",
            "Location: https://www.fit.vut.cz/person/imikolov/public/rnnlm/simple-examples.tgz [following]\n",
            "--2024-09-25 19:30:43--  https://www.fit.vut.cz/person/imikolov/public/rnnlm/simple-examples.tgz\n",
            "Reusing existing connection to www.fit.vut.cz:443.\n",
            "HTTP request sent, awaiting response... 200 OK\n",
            "Length: 34869662 (33M) [application/x-gzip]\n",
            "Saving to: ‘simple-examples.tgz’\n",
            "\n",
            "simple-examples.tgz 100%[===================>]  33.25M  9.97MB/s    in 5.9s    \n",
            "\n",
            "2024-09-25 19:30:49 (5.66 MB/s) - ‘simple-examples.tgz’ saved [34869662/34869662]\n",
            "\n",
            "./\n",
            "./simple-examples/\n",
            "./simple-examples/data/\n",
            "./simple-examples/data/ptb.test.txt\n",
            "./simple-examples/data/ptb.train.txt\n",
            "./simple-examples/data/ptb.valid.txt\n",
            "./simple-examples/data/README\n",
            "./simple-examples/data/ptb.char.train.txt\n",
            "./simple-examples/data/ptb.char.test.txt\n",
            "./simple-examples/data/ptb.char.valid.txt\n",
            "./simple-examples/models/\n",
            "./simple-examples/models/swb.ngram.model\n",
            "./simple-examples/models/swb.rnn.model\n",
            "./simple-examples/models/README\n",
            "./simple-examples/rnnlm-0.2b/\n",
            "./simple-examples/rnnlm-0.2b/CHANGE.log\n",
            "./simple-examples/rnnlm-0.2b/FAQ.txt\n",
            "./simple-examples/rnnlm-0.2b/convert.c\n",
            "./simple-examples/rnnlm-0.2b/makefile\n",
            "./simple-examples/rnnlm-0.2b/rnnlm.cpp\n",
            "./simple-examples/rnnlm-0.2b/rnnlmlib.cpp\n",
            "./simple-examples/rnnlm-0.2b/rnnlmlib.h\n",
            "./simple-examples/rnnlm-0.2b/prob.c\n",
            "./simple-examples/rnnlm-0.2b/test\n",
            "./simple-examples/rnnlm-0.2b/train\n",
            "./simple-examples/rnnlm-0.2b/valid\n",
            "./simple-examples/rnnlm-0.2b/example.sh\n",
            "./simple-examples/rnnlm-0.2b/example.output\n",
            "./simple-examples/rnnlm-0.2b/COPYRIGHT.txt\n",
            "./simple-examples/1-train/\n",
            "./simple-examples/1-train/train.sh\n",
            "./simple-examples/1-train/test.sh\n",
            "./simple-examples/1-train/README\n",
            "./simple-examples/3-combination/\n",
            "./simple-examples/3-combination/train.sh\n",
            "./simple-examples/3-combination/test.sh\n",
            "./simple-examples/3-combination/README\n",
            "./simple-examples/2-nbest-rescore/\n",
            "./simple-examples/2-nbest-rescore/lattices/\n",
            "./simple-examples/2-nbest-rescore/lattices/AMI-3E0501_u3005_127040_127488.lat.gz\n",
            "./simple-examples/2-nbest-rescore/lattices/AMI-3E0501_u3005_127513_127835.lat.gz\n",
            "./simple-examples/2-nbest-rescore/lattices/AMI-3E0501_u3005_127865_128175.lat.gz\n",
            "./simple-examples/2-nbest-rescore/lattices/AMI-3E0501_u3005_128188_128447.lat.gz\n",
            "./simple-examples/2-nbest-rescore/lattices/AMI-3E0501_u3005_128490_129032.lat.gz\n",
            "./simple-examples/2-nbest-rescore/lattices/nbest.sh\n",
            "./simple-examples/2-nbest-rescore/lattices/nbest/\n",
            "./simple-examples/2-nbest-rescore/lattices/latlist\n",
            "./simple-examples/2-nbest-rescore/README\n",
            "./simple-examples/2-nbest-rescore/getbest.c\n",
            "./simple-examples/2-nbest-rescore/gettext.c\n",
            "./simple-examples/2-nbest-rescore/makenbest.c\n",
            "./simple-examples/2-nbest-rescore/makenbest\n",
            "./simple-examples/2-nbest-rescore/gettext\n",
            "./simple-examples/2-nbest-rescore/getbest\n",
            "./simple-examples/5-one-iter/\n",
            "./simple-examples/5-one-iter/test.sh\n",
            "./simple-examples/5-one-iter/train.sh\n",
            "./simple-examples/5-one-iter/README\n",
            "./simple-examples/6-recovery-during-training/\n",
            "./simple-examples/6-recovery-during-training/test.sh\n",
            "./simple-examples/6-recovery-during-training/train.sh\n",
            "./simple-examples/6-recovery-during-training/README\n",
            "./simple-examples/7-dynamic-evaluation/\n",
            "./simple-examples/7-dynamic-evaluation/test.sh\n",
            "./simple-examples/7-dynamic-evaluation/train.sh\n",
            "./simple-examples/7-dynamic-evaluation/README\n",
            "./simple-examples/temp/\n",
            "./simple-examples/8-direct/\n",
            "./simple-examples/8-direct/train.sh\n",
            "./simple-examples/8-direct/test.sh\n",
            "./simple-examples/8-direct/README\n",
            "./simple-examples/4-data-generation/\n",
            "./simple-examples/4-data-generation/train.sh\n",
            "./simple-examples/4-data-generation/test.sh\n",
            "./simple-examples/4-data-generation/README\n",
            "./simple-examples/9-char-based-lm/\n",
            "./simple-examples/9-char-based-lm/test.sh\n",
            "./simple-examples/9-char-based-lm/train.sh\n",
            "./simple-examples/9-char-based-lm/README\n"
          ]
        }
      ]
    },
    {
      "cell_type": "markdown",
      "source": [
        "Main imports"
      ],
      "metadata": {
        "id": "JEA_Yi9oqaxW"
      }
    },
    {
      "cell_type": "code",
      "source": [
        "import torch\n",
        "import torch.nn as nn\n",
        "import torch.optim as optim\n",
        "import math\n",
        "from collections import Counter\n",
        "from itertools import chain\n",
        "import numpy as np"
      ],
      "metadata": {
        "id": "vkQf9nNOpTQC"
      },
      "execution_count": 27,
      "outputs": []
    },
    {
      "cell_type": "code",
      "source": [
        "def load_data(file):\n",
        "    with open(file, 'r') as f:\n",
        "        text = f.read().replace(\"\\n\", \" <eos> \").strip()\n",
        "    return text.split()\n",
        "\n",
        "train_file = 'simple-examples/data/ptb.train.txt'\n",
        "valid_file = 'simple-examples/data/ptb.valid.txt'\n",
        "test_file = 'simple-examples/data/ptb.test.txt'\n",
        "\n",
        "train_data = load_data(train_file)\n",
        "valid_data = load_data(valid_file)\n",
        "test_data = load_data(test_file)"
      ],
      "metadata": {
        "id": "KBRRJVrDqknl"
      },
      "execution_count": 28,
      "outputs": []
    },
    {
      "cell_type": "markdown",
      "source": [
        "Starting Parameters"
      ],
      "metadata": {
        "id": "p8FALdkkq4W-"
      }
    },
    {
      "cell_type": "code",
      "source": [
        "BATCH_SIZE = 20\n",
        "SEQ_LENGTH = 20\n",
        "LAYERS = 2\n",
        "RNN_SIZE = 200\n",
        "DROPOUT = 0\n",
        "INIT_WEIGHT = 0.1\n",
        "LR = 2\n",
        "VOCAB_SIZE = 10000\n",
        "MAX_EPOCH = 13\n",
        "DECAY_EPOCH = 7\n",
        "MAX_GRAD_NORM = 5"
      ],
      "metadata": {
        "id": "1Y6PiVGArCKf"
      },
      "execution_count": 29,
      "outputs": []
    },
    {
      "cell_type": "markdown",
      "source": [
        "Building the Vocab (A mapping of unique integer indices)"
      ],
      "metadata": {
        "id": "hER38E2wq7FO"
      }
    },
    {
      "cell_type": "code",
      "source": [
        "def build_vocab(data, vocab_size=VOCAB_SIZE):\n",
        "    counter = Counter(data)\n",
        "    most_common = counter.most_common(vocab_size - 1)\n",
        "    vocab = {word: i+1 for i, (word, _) in enumerate(most_common)}\n",
        "    vocab[\"<unk>\"] = 0\n",
        "    return vocab\n",
        "\n",
        "vocab = build_vocab(train_data)"
      ],
      "metadata": {
        "id": "LSWD0YGLrEzb"
      },
      "execution_count": 30,
      "outputs": []
    },
    {
      "cell_type": "markdown",
      "source": [
        "Setting Device to GPU"
      ],
      "metadata": {
        "id": "UBbtaYZgrG2j"
      }
    },
    {
      "cell_type": "code",
      "source": [
        "device = torch.device(\"cuda\" if torch.cuda.is_available() else \"cpu\")"
      ],
      "metadata": {
        "id": "niUJgg3_rIjX"
      },
      "execution_count": 31,
      "outputs": []
    },
    {
      "cell_type": "markdown",
      "source": [
        "Converting words to PyTorch tensor of word indices"
      ],
      "metadata": {
        "id": "0WUNvmeNrcZu"
      }
    },
    {
      "cell_type": "code",
      "source": [
        "def text_to_tensor(data, vocab):\n",
        "    return torch.tensor([vocab.get(word, vocab[\"<unk>\"]) for word in data], dtype=torch.long)\n",
        "\n",
        "train_data = text_to_tensor(train_data, vocab)\n",
        "valid_data = text_to_tensor(valid_data, vocab)\n",
        "test_data = text_to_tensor(test_data, vocab)"
      ],
      "metadata": {
        "id": "ssGxzCE2rW2K"
      },
      "execution_count": 32,
      "outputs": []
    },
    {
      "cell_type": "markdown",
      "source": [
        "## LSTM Model (Pytorch nn.Module)\n",
        "\n",
        "\n"
      ],
      "metadata": {
        "id": "vxh9w6NWrkvD"
      }
    },
    {
      "cell_type": "code",
      "source": [
        "class LSTMModel(nn.Module):\n",
        "    def __init__(self, vocab_size, rnn_size, layers, dropout):\n",
        "        super(LSTMModel, self).__init__()\n",
        "        self.drop = nn.Dropout(dropout)\n",
        "        self.encoder = nn.Embedding(vocab_size, rnn_size)\n",
        "        self.lstm = nn.LSTM(rnn_size, rnn_size, layers, dropout=dropout)\n",
        "        self.decoder = nn.Linear(rnn_size, vocab_size)\n",
        "        self.init_weights()\n",
        "        self.rnn_size = rnn_size\n",
        "        self.layers = layers\n",
        "\n",
        "    def init_weights(self):\n",
        "        initrange = INIT_WEIGHT\n",
        "        self.encoder.weight.data.uniform_(-initrange, initrange)\n",
        "        self.decoder.weight.data.uniform_(-initrange, initrange)\n",
        "        self.decoder.bias.data.zero_()\n",
        "\n",
        "    def forward(self, input, hidden):\n",
        "        emb = self.drop(self.encoder(input))\n",
        "        output, hidden = self.lstm(emb, hidden)\n",
        "        output = self.drop(output)\n",
        "        decoded = self.decoder(output.view(output.size(0) * output.size(1), output.size(2)))\n",
        "        return decoded.view(output.size(0), output.size(1), decoded.size(1)), hidden\n",
        "\n",
        "    def init_hidden(self, bsize):\n",
        "        weight = next(self.parameters())\n",
        "        return (weight.new_zeros(LAYERS, bsize, RNN_SIZE),\n",
        "                weight.new_zeros(LAYERS, bsize, RNN_SIZE))"
      ],
      "metadata": {
        "id": "JCPamY_qeWxh"
      },
      "execution_count": 34,
      "outputs": []
    },
    {
      "cell_type": "markdown",
      "source": [
        "Detaching hidden states from history by creating new tensors"
      ],
      "metadata": {
        "id": "MDB1Ft4psXjN"
      }
    },
    {
      "cell_type": "code",
      "source": [
        "def detach_hidden(h):\n",
        "    if isinstance(h, torch.Tensor):\n",
        "        return h.detach()\n",
        "    else:\n",
        "        return tuple(detach_hidden(v) for v in h)"
      ],
      "metadata": {
        "id": "wnZ7IY5NsYFF"
      },
      "execution_count": 35,
      "outputs": []
    },
    {
      "cell_type": "markdown",
      "source": [
        "Function to evaluate a trained RNN model, returns avg. loss"
      ],
      "metadata": {
        "id": "5p7InANMsm2Y"
      }
    },
    {
      "cell_type": "code",
      "source": [
        "def evaluate(model, data_source, criterion, seq_length):\n",
        "    model.eval()\n",
        "    total_loss = 0.\n",
        "    ntokens = VOCAB_SIZE\n",
        "    chunk_size = len(data_source) // BATCH_SIZE\n",
        "\n",
        "    hidden = model.init_hidden(BATCH_SIZE)\n",
        "\n",
        "    with torch.no_grad():\n",
        "        for j in range(0, chunk_size - seq_length, seq_length):\n",
        "            inputs = torch.stack([torch.LongTensor(data_source[i * chunk_size + j: i * chunk_size + j + seq_length])\n",
        "                                  for i in range(BATCH_SIZE)], dim=1).to(device)\n",
        "            targets = torch.stack([torch.LongTensor(data_source[i * chunk_size + j + 1: i * chunk_size + j + seq_length + 1])\n",
        "                                   for i in range(BATCH_SIZE)], dim=1).to(device)\n",
        "\n",
        "            output, hidden = model(inputs, hidden)\n",
        "            hidden = detach_hidden(hidden)\n",
        "            loss = criterion(output.view(-1, ntokens), targets.view(-1))\n",
        "            total_loss += loss.item()\n",
        "\n",
        "    return total_loss / (chunk_size // seq_length)"
      ],
      "metadata": {
        "id": "W1k_aD-ashYy"
      },
      "execution_count": 36,
      "outputs": []
    },
    {
      "cell_type": "markdown",
      "source": [
        "Function to train an RNN model. This includes gradient clipping to prevent exploding gradients. Returns avg. loss"
      ],
      "metadata": {
        "id": "YJP99n0os5Th"
      }
    },
    {
      "cell_type": "code",
      "source": [
        "def train(model, train_data, optimizer, criterion, seq_length):\n",
        "    model.train()\n",
        "    total_loss = 0.\n",
        "    ntokens = VOCAB_SIZE\n",
        "    chunk_size = len(train_data) // BATCH_SIZE\n",
        "\n",
        "    hidden = model.init_hidden(BATCH_SIZE)\n",
        "\n",
        "    for j in range(0, chunk_size - seq_length, seq_length):\n",
        "        inputs = torch.stack([torch.LongTensor(train_data[i * chunk_size + j: i * chunk_size + j + seq_length])\n",
        "                              for i in range(BATCH_SIZE)], dim=1).to(device)\n",
        "        targets = torch.stack([torch.LongTensor(train_data[i * chunk_size + j + 1: i * chunk_size + j + seq_length + 1])\n",
        "                               for i in range(BATCH_SIZE)], dim=1).to(device)\n",
        "\n",
        "        hidden = detach_hidden(hidden)\n",
        "        model.zero_grad()\n",
        "\n",
        "        output, hidden = model(inputs, hidden)\n",
        "        loss = criterion(output.view(-1, ntokens), targets.view(-1))\n",
        "\n",
        "        loss.backward()\n",
        "\n",
        "        torch.nn.utils.clip_grad_norm_(model.parameters(), MAX_GRAD_NORM)\n",
        "\n",
        "        optimizer.step()\n",
        "\n",
        "        total_loss += loss.item()\n",
        "\n",
        "    return total_loss / (chunk_size // seq_length)"
      ],
      "metadata": {
        "id": "OKEvPlFxs5IO"
      },
      "execution_count": 37,
      "outputs": []
    },
    {
      "cell_type": "markdown",
      "source": [
        "Generating Plots"
      ],
      "metadata": {
        "id": "OYeSWuPot622"
      }
    },
    {
      "cell_type": "code",
      "source": [
        "from matplotlib import pyplot as plt\n",
        "def plot_perplexities(train_perplexities, test_perplexities, title):\n",
        "    plt.figure(figsize=(10, 5))\n",
        "    plt.plot(range(1, MAX_EPOCH + 1), train_perplexities, label='Train Perplexity')\n",
        "    plt.plot(range(1, MAX_EPOCH + 1), test_perplexities, label='Test Perplexity')\n",
        "    plt.title(title)\n",
        "    plt.xlabel('Epoch')\n",
        "    plt.ylabel('Perplexity')\n",
        "    plt.legend()\n",
        "    plt.grid()\n",
        "    plt.show()"
      ],
      "metadata": {
        "id": "l-5SUXhWt6f9"
      },
      "execution_count": 38,
      "outputs": []
    },
    {
      "cell_type": "markdown",
      "source": [
        "Function to train and evaluate LSTM RNN over \"MAX_MAX_EPOCH\" epochs. This handles the word-level perplexity calculations"
      ],
      "metadata": {
        "id": "bBGbAqUquGyA"
      }
    },
    {
      "cell_type": "code",
      "source": [
        "def train_and_evaluate(model, train_data, valid_data, test_data, optimizer, criterion, SEQ_LENGTH, MAX__EPOCH, DECAY_EPOCH, save_path, title):\n",
        "    train_perplexities = []\n",
        "    val_perplexities = []\n",
        "    test_perplexities = []\n",
        "\n",
        "    for epoch in range(MAX_EPOCH):\n",
        "        train_loss = train(model, train_data, optimizer, criterion, SEQ_LENGTH)\n",
        "        val_loss = evaluate(model, valid_data, criterion, SEQ_LENGTH)\n",
        "        test_loss = evaluate(model, test_data, criterion, SEQ_LENGTH)\n",
        "\n",
        "        curr_train_perplexity = math.exp(train_loss)\n",
        "        curr_val_perplexity = math.exp(val_loss)\n",
        "        curr_test_perplexity = math.exp(test_loss)\n",
        "\n",
        "        train_perplexities.append(curr_train_perplexity)\n",
        "        val_perplexities.append(curr_val_perplexity)\n",
        "        test_perplexities.append(curr_test_perplexity)\n",
        "\n",
        "        print(f'Epoch {epoch+1}, Train Perplexity: {curr_train_perplexity:.4f}, Val Perplexity: {curr_val_perplexity:.4f}, Test Perplexity: {curr_test_perplexity:.4f}')\n",
        "\n",
        "        ### Learning rate decay\n",
        "        if epoch + 1 >= DECAY_EPOCH:\n",
        "            for param_group in optimizer.param_groups:\n",
        "                param_group['lr'] /= 2\n",
        "            print(f'Learning rate reduced to: {optimizer.param_groups[0][\"lr\"]:.4f}')\n",
        "\n",
        "    ### Saving model\n",
        "    torch.save(model.state_dict(), save_path)\n",
        "    print(f\"Model saved to {save_path}\")\n",
        "\n",
        "    plot_perplexities(train_perplexities, test_perplexities, title)\n",
        "\n",
        "    return train_perplexities[-1], val_perplexities[-1], test_perplexities[-1]"
      ],
      "metadata": {
        "id": "CwADNhOrehUa"
      },
      "execution_count": 47,
      "outputs": []
    },
    {
      "cell_type": "markdown",
      "source": [
        "#LSTM (no dropout) Evaluation"
      ],
      "metadata": {
        "id": "yA0pmB0awzIp"
      }
    },
    {
      "cell_type": "markdown",
      "source": [
        "#### Evaluated on word-level perplexity as a function of training epoch"
      ],
      "metadata": {
        "id": "SFAQ2hCOw_QS"
      }
    },
    {
      "cell_type": "markdown",
      "source": [
        "##### PARAMETERS\n",
        "\n",
        "\n",
        "1.   **Dropout = 0.00 %**\n",
        "2.   **Learning Rate = 3**\n",
        "3.   **Learning Rate Decay Epoch = 7**\n",
        "4.   **Number of Epochs = 13**\n",
        "\n"
      ],
      "metadata": {
        "id": "lVeteF_FxOo2"
      }
    },
    {
      "cell_type": "code",
      "source": [
        "DROPOUT = 0\n",
        "LR = 3\n",
        "DECAY_EPOCH = 7\n",
        "MAX_EPOCH = 13\n",
        "\n",
        "model = LSTMModel(VOCAB_SIZE, RNN_SIZE, LAYERS, DROPOUT).to(device)\n",
        "optimizer = optim.SGD(model.parameters(), lr=LR)\n",
        "criterion = nn.CrossEntropyLoss()\n",
        "\n",
        "train_perplexity_lstm, val_perplexity_lstm, test_perplexity_lstm = train_and_evaluate(\n",
        "    model, train_data, valid_data, test_data, optimizer, criterion,\n",
        "    SEQ_LENGTH, MAX_EPOCH, DECAY_EPOCH, \"lstm_model.pth\", \"LSTM  (With Dropout = \" + str(DROPOUT) + \") Perplexities vs Epoch\"\n",
        ")\n",
        "\n",
        "print(f\"Final Train Perplexity: {train_perplexity_lstm:.4f}\")\n",
        "print(f\"Final Test Perplexity: {test_perplexity_lstm:.4f}\")\n",
        "print(f\"Final Validation Perplexity: {val_perplexity_lstm:.4f}\")"
      ],
      "metadata": {
        "colab": {
          "base_uri": "https://localhost:8080/",
          "height": 904
        },
        "id": "HOIyWn85vCpf",
        "outputId": "be67211d-00e1-402f-9123-86175eb32aaf"
      },
      "execution_count": 48,
      "outputs": [
        {
          "output_type": "stream",
          "name": "stdout",
          "text": [
            "Epoch 1, Train Perplexity: 497.7511, Val Perplexity: 304.6621, Test Perplexity: 296.6659\n",
            "Epoch 2, Train Perplexity: 231.1572, Val Perplexity: 211.5719, Test Perplexity: 205.1579\n",
            "Epoch 3, Train Perplexity: 167.2147, Val Perplexity: 174.3294, Test Perplexity: 168.9778\n",
            "Epoch 4, Train Perplexity: 135.3924, Val Perplexity: 155.6586, Test Perplexity: 151.7177\n",
            "Epoch 5, Train Perplexity: 115.6805, Val Perplexity: 145.6414, Test Perplexity: 142.1864\n",
            "Epoch 6, Train Perplexity: 101.9796, Val Perplexity: 139.1925, Test Perplexity: 135.7547\n",
            "Epoch 7, Train Perplexity: 91.6944, Val Perplexity: 135.8568, Test Perplexity: 132.7563\n",
            "Learning rate reduced to: 1.5000\n",
            "Epoch 8, Train Perplexity: 78.5371, Val Perplexity: 129.3439, Test Perplexity: 125.9327\n",
            "Learning rate reduced to: 0.7500\n",
            "Epoch 9, Train Perplexity: 71.3349, Val Perplexity: 125.7259, Test Perplexity: 122.5193\n",
            "Learning rate reduced to: 0.3750\n",
            "Epoch 10, Train Perplexity: 67.6657, Val Perplexity: 123.7531, Test Perplexity: 120.7417\n",
            "Learning rate reduced to: 0.1875\n",
            "Epoch 11, Train Perplexity: 65.7884, Val Perplexity: 122.5058, Test Perplexity: 119.4510\n",
            "Learning rate reduced to: 0.0938\n",
            "Epoch 12, Train Perplexity: 64.7997, Val Perplexity: 121.6664, Test Perplexity: 118.4453\n",
            "Learning rate reduced to: 0.0469\n",
            "Epoch 13, Train Perplexity: 64.2526, Val Perplexity: 121.2307, Test Perplexity: 117.8531\n",
            "Learning rate reduced to: 0.0234\n",
            "Model saved to lstm_model.pth\n"
          ]
        },
        {
          "output_type": "display_data",
          "data": {
            "text/plain": [
              "<Figure size 1000x500 with 1 Axes>"
            ],
            "image/png": "[encoded data removed]"
          },
          "metadata": {}
        },
        {
          "output_type": "stream",
          "name": "stdout",
          "text": [
            "Final Train Perplexity: 64.2526\n",
            "Final Test Perplexity: 117.8531\n",
            "Final Validation Perplexity: 121.2307\n"
          ]
        }
      ]
    },
    {
      "cell_type": "markdown",
      "source": [
        "### OPTIONAL: **Infer With Trained Model** (example)"
      ],
      "metadata": {
        "id": "s5ey41XKzxS7"
      }
    },
    {
      "cell_type": "code",
      "source": [
        "model = LSTMModel(VOCAB_SIZE, RNN_SIZE, LAYERS, DROPOUT).to(device)\n",
        "\n",
        "model.load_state_dict(torch.load(\"lstm_model.pth\"))\n",
        "model.eval()\n",
        "\n",
        "def predict(model, data):\n",
        "    model.eval()\n",
        "    with torch.no_grad():\n",
        "        output = model(data)\n",
        "    return output"
      ],
      "metadata": {
        "id": "y0pIWkadz-Zg"
      },
      "execution_count": null,
      "outputs": []
    },
    {
      "cell_type": "markdown",
      "source": [
        "\n",
        "Example inference\n",
        "\n",
        "\n",
        "```\n",
        "test_input = torch.tensor([your_test_sequence], dtype=torch.long)  # Replace with actual test data\n",
        "output = predict(model, test_input)\n",
        "print(f\"Inference result: {output}\")\n",
        "```\n",
        "\n"
      ],
      "metadata": {
        "id": "OMcPGGHo0KSl"
      }
    },
    {
      "cell_type": "markdown",
      "source": [
        "# LSTM *With Dropout* Evaluation"
      ],
      "metadata": {
        "id": "v-rQhaW7yN5P"
      }
    },
    {
      "cell_type": "markdown",
      "source": [
        "\n",
        "#### Evaluated on word-level perplexity as a function of training epoch\n"
      ],
      "metadata": {
        "id": "r6kU_-6YyHpZ"
      }
    },
    {
      "cell_type": "markdown",
      "source": [
        "##### PARAMETERS\n",
        "\n",
        "1.   **Dropout = 0.33 %**\n",
        "2.   **Learning Rate = 6**\n",
        "3.   **Learning Rate Decay Epoch = 20**\n",
        "4.   **Number of Epochs = 30**"
      ],
      "metadata": {
        "id": "43Yd3IwOyq8A"
      }
    },
    {
      "cell_type": "code",
      "source": [
        "DROPOUT = 0.33\n",
        "LR = 6\n",
        "DECAY_EPOCH = 20\n",
        "MAX_EPOCH = 30\n",
        "\n",
        "\n",
        "model_dropout = LSTMModel(VOCAB_SIZE, RNN_SIZE, LAYERS, DROPOUT).to(device)\n",
        "optimizer = optim.SGD(model_dropout.parameters(), lr=LR)\n",
        "criterion = nn.CrossEntropyLoss()\n",
        "\n",
        "train_perplexity_do, val_perplexity_do, test_perplexity_do = train_and_evaluate (\n",
        "    model_dropout, train_data, valid_data, test_data, optimizer, criterion,\n",
        "    SEQ_LENGTH, MAX_EPOCH, DECAY_EPOCH, \"lstm_model_dropout.pth\", \"LSTM  (With Dropout = \" + str(DROPOUT) + \") Perplexities vs Epoch\"\n",
        ")\n",
        "\n",
        "print(f\"Final Train Perplexity: {train_perplexity_do:.4f}\")\n",
        "print(f\"Final Test Perplexity: {test_perplexity_do:.4f}\")\n",
        "print(f\"Final Validation Perplexity: {val_perplexity_do:.4f}\")"
      ],
      "metadata": {
        "colab": {
          "base_uri": "https://localhost:8080/",
          "height": 1000
        },
        "id": "Uk8tNyxuzBaq",
        "outputId": "16252562-8f53-4b30-8e62-974b8c27688d"
      },
      "execution_count": 43,
      "outputs": [
        {
          "output_type": "stream",
          "name": "stdout",
          "text": [
            "Epoch 1, Train Perplexity: 500.9510, Val Perplexity: 297.6675, Test Perplexity: 289.9617\n",
            "Epoch 2, Train Perplexity: 268.0974, Val Perplexity: 215.7412, Test Perplexity: 209.7615\n",
            "Epoch 3, Train Perplexity: 209.9929, Val Perplexity: 184.0538, Test Perplexity: 178.5235\n",
            "Epoch 4, Train Perplexity: 180.2268, Val Perplexity: 163.8926, Test Perplexity: 159.1396\n",
            "Epoch 5, Train Perplexity: 160.4000, Val Perplexity: 151.5055, Test Perplexity: 146.8817\n",
            "Epoch 6, Train Perplexity: 146.4389, Val Perplexity: 140.3616, Test Perplexity: 136.2417\n",
            "Epoch 7, Train Perplexity: 135.7467, Val Perplexity: 133.9328, Test Perplexity: 130.1749\n",
            "Epoch 8, Train Perplexity: 127.5442, Val Perplexity: 128.0285, Test Perplexity: 124.8522\n",
            "Epoch 9, Train Perplexity: 120.9557, Val Perplexity: 123.6051, Test Perplexity: 119.9993\n",
            "Epoch 10, Train Perplexity: 115.4793, Val Perplexity: 120.4496, Test Perplexity: 116.8213\n",
            "Epoch 11, Train Perplexity: 110.6153, Val Perplexity: 117.7666, Test Perplexity: 114.0953\n",
            "Epoch 12, Train Perplexity: 106.5418, Val Perplexity: 115.3049, Test Perplexity: 111.5918\n",
            "Epoch 13, Train Perplexity: 103.2078, Val Perplexity: 113.1091, Test Perplexity: 109.8521\n",
            "Epoch 14, Train Perplexity: 100.2867, Val Perplexity: 110.9419, Test Perplexity: 107.9625\n",
            "Epoch 15, Train Perplexity: 97.8083, Val Perplexity: 109.5296, Test Perplexity: 106.4627\n",
            "Epoch 16, Train Perplexity: 95.3559, Val Perplexity: 108.3311, Test Perplexity: 105.5822\n",
            "Epoch 17, Train Perplexity: 93.4109, Val Perplexity: 107.0527, Test Perplexity: 104.7576\n",
            "Epoch 18, Train Perplexity: 91.5627, Val Perplexity: 106.4237, Test Perplexity: 103.5317\n",
            "Epoch 19, Train Perplexity: 90.1086, Val Perplexity: 105.6445, Test Perplexity: 103.0082\n",
            "Epoch 20, Train Perplexity: 88.7372, Val Perplexity: 104.6532, Test Perplexity: 101.8973\n",
            "Learning rate reduced to: 3.0000\n",
            "Epoch 21, Train Perplexity: 82.6021, Val Perplexity: 100.9770, Test Perplexity: 98.1172\n",
            "Learning rate reduced to: 1.5000\n",
            "Epoch 22, Train Perplexity: 78.7851, Val Perplexity: 99.3320, Test Perplexity: 96.2157\n",
            "Learning rate reduced to: 0.7500\n",
            "Epoch 23, Train Perplexity: 76.7354, Val Perplexity: 98.4249, Test Perplexity: 95.1866\n",
            "Learning rate reduced to: 0.3750\n",
            "Epoch 24, Train Perplexity: 75.6960, Val Perplexity: 97.8966, Test Perplexity: 94.3998\n",
            "Learning rate reduced to: 0.1875\n",
            "Epoch 25, Train Perplexity: 74.9899, Val Perplexity: 97.5525, Test Perplexity: 94.0065\n",
            "Learning rate reduced to: 0.0938\n",
            "Epoch 26, Train Perplexity: 74.6739, Val Perplexity: 97.4482, Test Perplexity: 93.8391\n",
            "Learning rate reduced to: 0.0469\n",
            "Epoch 27, Train Perplexity: 74.6840, Val Perplexity: 97.3479, Test Perplexity: 93.7489\n",
            "Learning rate reduced to: 0.0234\n",
            "Epoch 28, Train Perplexity: 74.5973, Val Perplexity: 97.3027, Test Perplexity: 93.6962\n",
            "Learning rate reduced to: 0.0117\n",
            "Epoch 29, Train Perplexity: 74.5988, Val Perplexity: 97.2634, Test Perplexity: 93.6660\n",
            "Learning rate reduced to: 0.0059\n",
            "Epoch 30, Train Perplexity: 74.4793, Val Perplexity: 97.2535, Test Perplexity: 93.6564\n",
            "Learning rate reduced to: 0.0029\n",
            "Model saved to lstm_model_dropout.pth\n"
          ]
        },
        {
          "output_type": "display_data",
          "data": {
            "text/plain": [
              "<Figure size 1000x500 with 1 Axes>"
            ],
            "image/png": "[encoded data removed]"
          },
          "metadata": {}
        },
        {
          "output_type": "stream",
          "name": "stdout",
          "text": [
            "Final Train Perplexity: 74.4793\n",
            "Final Test Perplexity: 93.6564\n",
            "Final Validation Perplexity: 97.2535\n"
          ]
        }
      ]
    },
    {
      "cell_type": "markdown",
      "source": [
        "### OPTIONAL: **Infer With Trained Model** (example)"
      ],
      "metadata": {
        "id": "hhsn-iKA3fB0"
      }
    },
    {
      "cell_type": "code",
      "source": [
        "model = LSTMModel(VOCAB_SIZE, RNN_SIZE, LAYERS, DROPOUT).to(device)\n",
        "\n",
        "model.load_state_dict(torch.load(\"lstm_model_dropout.pth\"))\n",
        "model.eval()\n",
        "\n",
        "def predict(model, data):\n",
        "    model.eval()\n",
        "    with torch.no_grad():\n",
        "        output = model(data)\n",
        "    return output"
      ],
      "metadata": {
        "id": "BC8jB2vW3fB1"
      },
      "execution_count": null,
      "outputs": []
    },
    {
      "cell_type": "markdown",
      "source": [
        "\n",
        "Example inference\n",
        "\n",
        "\n",
        "```\n",
        "test_input = torch.tensor([your_test_sequence], dtype=torch.long)  # Replace with actual test data\n",
        "output = predict(model, test_input)\n",
        "print(f\"Inference result: {output}\")\n",
        "```\n",
        "\n"
      ],
      "metadata": {
        "id": "B0lQAqj33fB2"
      }
    },
    {
      "cell_type": "markdown",
      "source": [
        "# Gated Recurrent Units (**GRU**) Model (Pytorch nn.Module)"
      ],
      "metadata": {
        "id": "QrTUcd1L1Efl"
      }
    },
    {
      "cell_type": "code",
      "source": [
        "class GRUModel(nn.Module):\n",
        "    def __init__(self, vocab_size, rnn_size, layers, dropout):\n",
        "        super(GRUModel, self).__init__()\n",
        "        self.drop = nn.Dropout(dropout)\n",
        "        self.encoder = nn.Embedding(vocab_size, rnn_size)\n",
        "        self.gru = nn.GRU(rnn_size, rnn_size, layers, dropout=dropout)\n",
        "        self.decoder = nn.Linear(rnn_size, vocab_size)\n",
        "        self.init_weights()\n",
        "        self.rnn_size = rnn_size\n",
        "        self.layers = layers\n",
        "\n",
        "    def init_weights(self):\n",
        "        initrange = INIT_WEIGHT\n",
        "        self.encoder.weight.data.uniform_(-initrange, initrange)\n",
        "        self.decoder.weight.data.uniform_(-initrange, initrange)\n",
        "        self.decoder.bias.data.zero_()\n",
        "\n",
        "    def forward(self, input, hidden):\n",
        "        emb = self.drop(self.encoder(input))\n",
        "        output, hidden = self.gru(emb, hidden)\n",
        "        output = self.drop(output)\n",
        "        decoded = self.decoder(output.view(output.size(0) * output.size(1), output.size(2)))\n",
        "        return decoded.view(output.size(0), output.size(1), decoded.size(1)), hidden\n",
        "\n",
        "    def init_hidden(self, bsize):\n",
        "        weight = next(self.parameters())\n",
        "        return weight.new_zeros(LAYERS, bsize, RNN_SIZE)"
      ],
      "metadata": {
        "id": "26ZIs2e51V07"
      },
      "execution_count": 44,
      "outputs": []
    },
    {
      "cell_type": "markdown",
      "source": [
        "#GRU (no dropout) Evaluation"
      ],
      "metadata": {
        "id": "IVbtoThB2Eab"
      }
    },
    {
      "cell_type": "markdown",
      "source": [
        "#### Evaluated on word-level perplexity as a function of training epoch"
      ],
      "metadata": {
        "id": "zGsH0yLa2Eab"
      }
    },
    {
      "cell_type": "markdown",
      "source": [
        "##### PARAMETERS\n",
        "\n",
        "\n",
        "1.   **Dropout = 0.00 %**\n",
        "2.   **Learning Rate = 1**\n",
        "3.   **Learning Rate Decay Epoch = 7**\n",
        "4.   **Number of Epochs = 13**\n",
        "\n"
      ],
      "metadata": {
        "id": "zcuRp6Yl2Eac"
      }
    },
    {
      "cell_type": "code",
      "source": [
        "DROPOUT = 0\n",
        "LR = 1\n",
        "DECAY_EPOCH = 7\n",
        "MAX_EPOCH = 13\n",
        "\n",
        "model_gru_no_drop = GRUModel(VOCAB_SIZE, RNN_SIZE, LAYERS, DROPOUT).to(device)\n",
        "optimizer = optim.SGD(model_gru_no_drop.parameters(), lr=LR)\n",
        "criterion = nn.CrossEntropyLoss()\n",
        "\n",
        "train_perplexity_gru, val_perplexity_gru, test_perplexity_gru = train_and_evaluate(\n",
        "    model_gru_no_drop, train_data, valid_data, test_data, optimizer, criterion,\n",
        "    SEQ_LENGTH, MAX_EPOCH, DECAY_EPOCH, \"gru_model.pth\", \"GRU (With Dropout = \" + str(DROPOUT) + \") Perplexities vs Epoch\"\n",
        ")\n",
        "\n",
        "print(f\"Final Train Perplexity: {train_perplexity_gru:.4f}\")\n",
        "print(f\"Final Test Perplexity: {test_perplexity_gru:.4f}\")\n",
        "print(f\"Final Validation Perplexity: {val_perplexity_gru:.4f}\")"
      ],
      "metadata": {
        "colab": {
          "base_uri": "https://localhost:8080/",
          "height": 904
        },
        "id": "zO_FGlYb1x3g",
        "outputId": "9643495b-a9a2-474c-8899-d3f7cb3d8392"
      },
      "execution_count": 46,
      "outputs": [
        {
          "output_type": "stream",
          "name": "stdout",
          "text": [
            "Epoch 1, Train Perplexity: 467.0855, Val Perplexity: 294.7341, Test Perplexity: 286.8951\n",
            "Epoch 2, Train Perplexity: 234.0869, Val Perplexity: 216.1602, Test Perplexity: 211.0104\n",
            "Epoch 3, Train Perplexity: 175.8325, Val Perplexity: 182.7195, Test Perplexity: 178.5707\n",
            "Epoch 4, Train Perplexity: 145.3017, Val Perplexity: 163.6984, Test Perplexity: 160.6749\n",
            "Epoch 5, Train Perplexity: 125.3247, Val Perplexity: 152.1348, Test Perplexity: 149.6087\n",
            "Epoch 6, Train Perplexity: 110.8362, Val Perplexity: 143.9814, Test Perplexity: 141.6406\n",
            "Epoch 7, Train Perplexity: 99.6262, Val Perplexity: 138.9685, Test Perplexity: 136.8356\n",
            "Learning rate reduced to: 0.5000\n",
            "Epoch 8, Train Perplexity: 86.4569, Val Perplexity: 130.9649, Test Perplexity: 128.3758\n",
            "Learning rate reduced to: 0.2500\n",
            "Epoch 9, Train Perplexity: 80.0604, Val Perplexity: 126.4121, Test Perplexity: 123.5648\n",
            "Learning rate reduced to: 0.1250\n",
            "Epoch 10, Train Perplexity: 76.8466, Val Perplexity: 124.3807, Test Perplexity: 121.4226\n",
            "Learning rate reduced to: 0.0625\n",
            "Epoch 11, Train Perplexity: 75.1911, Val Perplexity: 123.1994, Test Perplexity: 120.1474\n",
            "Learning rate reduced to: 0.0312\n",
            "Epoch 12, Train Perplexity: 74.3218, Val Perplexity: 122.4881, Test Perplexity: 119.3342\n",
            "Learning rate reduced to: 0.0156\n",
            "Epoch 13, Train Perplexity: 73.8554, Val Perplexity: 122.1354, Test Perplexity: 118.9037\n",
            "Learning rate reduced to: 0.0078\n",
            "Model saved to gru_model.pth\n"
          ]
        },
        {
          "output_type": "display_data",
          "data": {
            "text/plain": [
              "<Figure size 1000x500 with 1 Axes>"
            ],
            "image/png": "[encoded data removed]"
          },
          "metadata": {}
        },
        {
          "output_type": "stream",
          "name": "stdout",
          "text": [
            "Final Train Perplexity: 73.8554\n",
            "Final Test Perplexity: 118.9037\n",
            "Final Validation Perplexity: 122.1354\n"
          ]
        }
      ]
    },
    {
      "cell_type": "markdown",
      "source": [
        "### OPTIONAL: **Infer With Trained Model** (example)"
      ],
      "metadata": {
        "id": "iI1yq7x_5l6l"
      }
    },
    {
      "cell_type": "code",
      "source": [
        "model = GRUModel(VOCAB_SIZE, RNN_SIZE, LAYERS, DROPOUT).to(device)\n",
        "\n",
        "model.load_state_dict(torch.load(\"gru_model.pth.pth\"))\n",
        "model.eval()\n",
        "\n",
        "def predict(model, data):\n",
        "    model.eval()\n",
        "    with torch.no_grad():\n",
        "        output = model(data)\n",
        "    return output"
      ],
      "metadata": {
        "id": "kUcjWN9Z5l6n"
      },
      "execution_count": null,
      "outputs": []
    },
    {
      "cell_type": "markdown",
      "source": [
        "\n",
        "Example inference\n",
        "\n",
        "\n",
        "```\n",
        "test_input = torch.tensor([your_test_sequence], dtype=torch.long)  # Replace with actual test data\n",
        "output = predict(model, test_input)\n",
        "print(f\"Inference result: {output}\")\n",
        "```\n",
        "\n"
      ],
      "metadata": {
        "id": "Fp0zPJT65l6n"
      }
    },
    {
      "cell_type": "markdown",
      "source": [
        "#GRU *With Dropout*  Evaluation"
      ],
      "metadata": {
        "id": "eLUMx4ZF51wD"
      }
    },
    {
      "cell_type": "markdown",
      "source": [
        "#### Evaluated on word-level perplexity as a function of training epoch"
      ],
      "metadata": {
        "id": "zlvS0Yvs51wE"
      }
    },
    {
      "cell_type": "markdown",
      "source": [
        "##### PARAMETERS\n",
        "\n",
        "\n",
        "1.   **Dropout = 0.00 %**\n",
        "2.   **Learning Rate = 1**\n",
        "3.   **Learning Rate Decay Epoch = 7**\n",
        "4.   **Number of Epochs = 13**\n",
        "\n"
      ],
      "metadata": {
        "id": "HRH4sy8851wE"
      }
    },
    {
      "cell_type": "code",
      "source": [
        "DROPOUT = 0.30\n",
        "LR = 2\n",
        "DECAY_EPOCH = 25\n",
        "MAX_EPOCH = 35\n",
        "\n",
        "model_gru_drop = GRUModel(VOCAB_SIZE, RNN_SIZE, LAYERS, DROPOUT).to(device)\n",
        "optimizer = optim.SGD(model_gru_drop.parameters(), lr=LR)\n",
        "criterion = nn.CrossEntropyLoss()\n",
        "\n",
        "train_perplexity_gru, val_perplexity_gru, test_perplexity_gru = train_and_evaluate(\n",
        "    model_gru_drop, train_data, valid_data, test_data, optimizer, criterion,\n",
        "    SEQ_LENGTH, MAX_EPOCH, DECAY_EPOCH, \"gru_model_dropout.pth\", \"GRU (With Dropout = \" + str(DROPOUT) + \") Perplexities vs Epoch\"\n",
        ")"
      ],
      "metadata": {
        "colab": {
          "base_uri": "https://localhost:8080/",
          "height": 1000
        },
        "id": "PtjLU2w76C6c",
        "outputId": "fa2a983c-5df1-4dae-cc49-1fc5eea520f7"
      },
      "execution_count": 49,
      "outputs": [
        {
          "output_type": "stream",
          "name": "stdout",
          "text": [
            "Epoch 1, Train Perplexity: 415.5957, Val Perplexity: 256.2069, Test Perplexity: 252.0454\n",
            "Epoch 2, Train Perplexity: 226.2987, Val Perplexity: 195.6320, Test Perplexity: 190.6981\n",
            "Epoch 3, Train Perplexity: 179.9195, Val Perplexity: 166.8189, Test Perplexity: 163.7056\n",
            "Epoch 4, Train Perplexity: 154.9989, Val Perplexity: 151.9715, Test Perplexity: 149.7428\n",
            "Epoch 5, Train Perplexity: 139.0681, Val Perplexity: 142.0985, Test Perplexity: 140.0905\n",
            "Epoch 6, Train Perplexity: 127.8140, Val Perplexity: 134.6771, Test Perplexity: 132.6309\n",
            "Epoch 7, Train Perplexity: 119.1016, Val Perplexity: 131.1095, Test Perplexity: 129.1113\n",
            "Epoch 8, Train Perplexity: 112.4140, Val Perplexity: 128.2617, Test Perplexity: 125.4135\n",
            "Epoch 9, Train Perplexity: 107.1734, Val Perplexity: 125.2635, Test Perplexity: 122.5046\n",
            "Epoch 10, Train Perplexity: 102.7578, Val Perplexity: 122.8096, Test Perplexity: 120.3995\n",
            "Epoch 11, Train Perplexity: 98.9855, Val Perplexity: 122.4361, Test Perplexity: 119.8596\n",
            "Epoch 12, Train Perplexity: 95.9853, Val Perplexity: 120.8943, Test Perplexity: 117.8116\n",
            "Epoch 13, Train Perplexity: 93.1046, Val Perplexity: 120.6088, Test Perplexity: 117.1642\n",
            "Epoch 14, Train Perplexity: 90.6696, Val Perplexity: 118.8124, Test Perplexity: 115.3878\n",
            "Epoch 15, Train Perplexity: 88.4721, Val Perplexity: 117.8555, Test Perplexity: 114.7348\n",
            "Epoch 16, Train Perplexity: 86.7140, Val Perplexity: 118.0074, Test Perplexity: 114.5631\n",
            "Epoch 17, Train Perplexity: 84.8565, Val Perplexity: 117.1754, Test Perplexity: 114.2109\n",
            "Epoch 18, Train Perplexity: 83.3038, Val Perplexity: 116.9567, Test Perplexity: 113.8141\n",
            "Epoch 19, Train Perplexity: 81.8025, Val Perplexity: 116.3981, Test Perplexity: 113.0461\n",
            "Epoch 20, Train Perplexity: 80.6675, Val Perplexity: 116.0473, Test Perplexity: 112.3541\n",
            "Epoch 21, Train Perplexity: 79.3529, Val Perplexity: 116.3097, Test Perplexity: 112.9246\n",
            "Epoch 22, Train Perplexity: 78.1945, Val Perplexity: 116.4984, Test Perplexity: 112.7459\n",
            "Epoch 23, Train Perplexity: 77.1223, Val Perplexity: 115.6561, Test Perplexity: 112.3399\n",
            "Epoch 24, Train Perplexity: 76.2247, Val Perplexity: 115.2451, Test Perplexity: 111.8558\n",
            "Epoch 25, Train Perplexity: 75.1475, Val Perplexity: 114.8051, Test Perplexity: 111.6625\n",
            "Learning rate reduced to: 1.0000\n",
            "Epoch 26, Train Perplexity: 68.3000, Val Perplexity: 108.8673, Test Perplexity: 104.8640\n",
            "Learning rate reduced to: 0.5000\n",
            "Epoch 27, Train Perplexity: 64.2460, Val Perplexity: 105.8683, Test Perplexity: 101.7532\n",
            "Learning rate reduced to: 0.2500\n",
            "Epoch 28, Train Perplexity: 62.4333, Val Perplexity: 103.9354, Test Perplexity: 99.7095\n",
            "Learning rate reduced to: 0.1250\n",
            "Epoch 29, Train Perplexity: 61.5950, Val Perplexity: 103.0927, Test Perplexity: 98.8475\n",
            "Learning rate reduced to: 0.0625\n",
            "Epoch 30, Train Perplexity: 61.0865, Val Perplexity: 102.6042, Test Perplexity: 98.3705\n",
            "Learning rate reduced to: 0.0312\n",
            "Epoch 31, Train Perplexity: 60.8846, Val Perplexity: 102.4021, Test Perplexity: 98.2070\n",
            "Learning rate reduced to: 0.0156\n",
            "Epoch 32, Train Perplexity: 60.8381, Val Perplexity: 102.2561, Test Perplexity: 98.0466\n",
            "Learning rate reduced to: 0.0078\n",
            "Epoch 33, Train Perplexity: 60.6985, Val Perplexity: 102.2071, Test Perplexity: 97.9916\n",
            "Learning rate reduced to: 0.0039\n",
            "Epoch 34, Train Perplexity: 60.6082, Val Perplexity: 102.1848, Test Perplexity: 97.9633\n",
            "Learning rate reduced to: 0.0020\n",
            "Epoch 35, Train Perplexity: 60.7748, Val Perplexity: 102.1673, Test Perplexity: 97.9466\n",
            "Learning rate reduced to: 0.0010\n",
            "Model saved to gru_model_dropout.pth\n"
          ]
        },
        {
          "output_type": "display_data",
          "data": {
            "text/plain": [
              "<Figure size 1000x500 with 1 Axes>"
            ],
            "image/png": "[encoded data removed]"
          },
          "metadata": {}
        }
      ]
    },
    {
      "cell_type": "markdown",
      "source": [
        "### OPTIONAL: **Infer With Trained Model** (example)"
      ],
      "metadata": {
        "id": "udTqZxQP8UXG"
      }
    },
    {
      "cell_type": "code",
      "source": [
        "model = GRUModel(VOCAB_SIZE, RNN_SIZE, LAYERS, DROPOUT).to(device)\n",
        "\n",
        "model.load_state_dict(torch.load(\"gru_model_dropout.pth.pth\"))\n",
        "model.eval()\n",
        "\n",
        "def predict(model, data):\n",
        "    model.eval()\n",
        "    with torch.no_grad():\n",
        "        output = model(data)\n",
        "    return output"
      ],
      "metadata": {
        "id": "WX6KRbC-8UXG"
      },
      "execution_count": null,
      "outputs": []
    },
    {
      "cell_type": "markdown",
      "source": [
        "\n",
        "Example inference\n",
        "\n",
        "\n",
        "```\n",
        "test_input = torch.tensor([your_test_sequence], dtype=torch.long)  # Replace with actual test data\n",
        "output = predict(model, test_input)\n",
        "print(f\"Inference result: {output}\")\n",
        "```\n",
        "\n"
      ],
      "metadata": {
        "id": "BHg7Ejw78UXH"
      }
    }
  ]
}